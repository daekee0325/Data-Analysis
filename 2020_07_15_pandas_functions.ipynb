{
  "nbformat": 4,
  "nbformat_minor": 0,
  "metadata": {
    "colab": {
      "name": "2020_07_15_pandas_functions.ipynb",
      "provenance": [],
      "authorship_tag": "ABX9TyM1hlwtWugfapsutN08aPPg",
      "include_colab_link": true
    },
    "kernelspec": {
      "name": "python3",
      "display_name": "Python 3"
    }
  },
  "cells": [
    {
      "cell_type": "markdown",
      "metadata": {
        "id": "view-in-github",
        "colab_type": "text"
      },
      "source": [
        "<a href=\"https://colab.research.google.com/github/daekee0325/Data-Analysis/blob/master/2020_07_15_pandas_functions.ipynb\" target=\"_parent\"><img src=\"https://colab.research.google.com/assets/colab-badge.svg\" alt=\"Open In Colab\"/></a>"
      ]
    },
    {
      "cell_type": "code",
      "metadata": {
        "id": "L7kEazRgVG_Z",
        "colab_type": "code",
        "colab": {}
      },
      "source": [
        "import pandas as pd\n",
        "import numpy as np"
      ],
      "execution_count": 1,
      "outputs": []
    },
    {
      "cell_type": "code",
      "metadata": {
        "id": "vw6j3oTkVVbg",
        "colab_type": "code",
        "colab": {}
      },
      "source": [
        "values_1 = np.random.randint(10, size=10)\n",
        "values_2 = np.random.randint(10, size = 10)"
      ],
      "execution_count": 2,
      "outputs": []
    },
    {
      "cell_type": "code",
      "metadata": {
        "id": "BLP5oI2wVtBe",
        "colab_type": "code",
        "colab": {
          "base_uri": "https://localhost:8080/",
          "height": 58
        },
        "outputId": "47069f59-fcca-4505-8179-a706308cf0f7"
      },
      "source": [
        "print(values_1)\n",
        "print(values_2)"
      ],
      "execution_count": 3,
      "outputs": [
        {
          "output_type": "stream",
          "text": [
            "[9 6 0 5 0 3 5 8 4 0]\n",
            "[3 7 4 0 1 4 4 0 5 6]\n"
          ],
          "name": "stdout"
        }
      ]
    },
    {
      "cell_type": "code",
      "metadata": {
        "id": "SSi9v_ptV3-H",
        "colab_type": "code",
        "colab": {
          "base_uri": "https://localhost:8080/",
          "height": 37
        },
        "outputId": "c206c1ab-618b-40d7-bbb0-f161fc468134"
      },
      "source": [
        "years = np.arange(2010, 2020)\n",
        "print(years)"
      ],
      "execution_count": 4,
      "outputs": [
        {
          "output_type": "stream",
          "text": [
            "[2010 2011 2012 2013 2014 2015 2016 2017 2018 2019]\n"
          ],
          "name": "stdout"
        }
      ]
    },
    {
      "cell_type": "code",
      "metadata": {
        "id": "Hy3TPS5uWRod",
        "colab_type": "code",
        "colab": {
          "base_uri": "https://localhost:8080/",
          "height": 37
        },
        "outputId": "48f9fef4-fd9c-4191-d53c-8061376eb5fd"
      },
      "source": [
        "groups = ['A','A','B','A','B','B','C','A','C','C']\n",
        "len(groups)"
      ],
      "execution_count": 5,
      "outputs": [
        {
          "output_type": "execute_result",
          "data": {
            "text/plain": [
              "10"
            ]
          },
          "metadata": {
            "tags": []
          },
          "execution_count": 5
        }
      ]
    },
    {
      "cell_type": "code",
      "metadata": {
        "id": "1yoR8rDFW0jS",
        "colab_type": "code",
        "colab": {
          "base_uri": "https://localhost:8080/",
          "height": 384
        },
        "outputId": "5b1ebcfb-7542-40c7-9ef2-ab0be44e7512"
      },
      "source": [
        "df = pd.DataFrame({'group':groups, 'year':years,'value_1': values_1, 'value_2':values_2})\n",
        "df"
      ],
      "execution_count": 6,
      "outputs": [
        {
          "output_type": "execute_result",
          "data": {
            "text/html": [
              "<div>\n",
              "<style scoped>\n",
              "    .dataframe tbody tr th:only-of-type {\n",
              "        vertical-align: middle;\n",
              "    }\n",
              "\n",
              "    .dataframe tbody tr th {\n",
              "        vertical-align: top;\n",
              "    }\n",
              "\n",
              "    .dataframe thead th {\n",
              "        text-align: right;\n",
              "    }\n",
              "</style>\n",
              "<table border=\"1\" class=\"dataframe\">\n",
              "  <thead>\n",
              "    <tr style=\"text-align: right;\">\n",
              "      <th></th>\n",
              "      <th>group</th>\n",
              "      <th>year</th>\n",
              "      <th>value_1</th>\n",
              "      <th>value_2</th>\n",
              "    </tr>\n",
              "  </thead>\n",
              "  <tbody>\n",
              "    <tr>\n",
              "      <th>0</th>\n",
              "      <td>A</td>\n",
              "      <td>2010</td>\n",
              "      <td>9</td>\n",
              "      <td>3</td>\n",
              "    </tr>\n",
              "    <tr>\n",
              "      <th>1</th>\n",
              "      <td>A</td>\n",
              "      <td>2011</td>\n",
              "      <td>6</td>\n",
              "      <td>7</td>\n",
              "    </tr>\n",
              "    <tr>\n",
              "      <th>2</th>\n",
              "      <td>B</td>\n",
              "      <td>2012</td>\n",
              "      <td>0</td>\n",
              "      <td>4</td>\n",
              "    </tr>\n",
              "    <tr>\n",
              "      <th>3</th>\n",
              "      <td>A</td>\n",
              "      <td>2013</td>\n",
              "      <td>5</td>\n",
              "      <td>0</td>\n",
              "    </tr>\n",
              "    <tr>\n",
              "      <th>4</th>\n",
              "      <td>B</td>\n",
              "      <td>2014</td>\n",
              "      <td>0</td>\n",
              "      <td>1</td>\n",
              "    </tr>\n",
              "    <tr>\n",
              "      <th>5</th>\n",
              "      <td>B</td>\n",
              "      <td>2015</td>\n",
              "      <td>3</td>\n",
              "      <td>4</td>\n",
              "    </tr>\n",
              "    <tr>\n",
              "      <th>6</th>\n",
              "      <td>C</td>\n",
              "      <td>2016</td>\n",
              "      <td>5</td>\n",
              "      <td>4</td>\n",
              "    </tr>\n",
              "    <tr>\n",
              "      <th>7</th>\n",
              "      <td>A</td>\n",
              "      <td>2017</td>\n",
              "      <td>8</td>\n",
              "      <td>0</td>\n",
              "    </tr>\n",
              "    <tr>\n",
              "      <th>8</th>\n",
              "      <td>C</td>\n",
              "      <td>2018</td>\n",
              "      <td>4</td>\n",
              "      <td>5</td>\n",
              "    </tr>\n",
              "    <tr>\n",
              "      <th>9</th>\n",
              "      <td>C</td>\n",
              "      <td>2019</td>\n",
              "      <td>0</td>\n",
              "      <td>6</td>\n",
              "    </tr>\n",
              "  </tbody>\n",
              "</table>\n",
              "</div>"
            ],
            "text/plain": [
              "  group  year  value_1  value_2\n",
              "0     A  2010        9        3\n",
              "1     A  2011        6        7\n",
              "2     B  2012        0        4\n",
              "3     A  2013        5        0\n",
              "4     B  2014        0        1\n",
              "5     B  2015        3        4\n",
              "6     C  2016        5        4\n",
              "7     A  2017        8        0\n",
              "8     C  2018        4        5\n",
              "9     C  2019        0        6"
            ]
          },
          "metadata": {
            "tags": []
          },
          "execution_count": 6
        }
      ]
    },
    {
      "cell_type": "code",
      "metadata": {
        "id": "cpkezXZbX3N0",
        "colab_type": "code",
        "colab": {
          "base_uri": "https://localhost:8080/",
          "height": 251
        },
        "outputId": "9fab6800-e7f0-4dfa-d77e-457235a77c1b"
      },
      "source": [
        "df.query('value_1<value_2')"
      ],
      "execution_count": 7,
      "outputs": [
        {
          "output_type": "execute_result",
          "data": {
            "text/html": [
              "<div>\n",
              "<style scoped>\n",
              "    .dataframe tbody tr th:only-of-type {\n",
              "        vertical-align: middle;\n",
              "    }\n",
              "\n",
              "    .dataframe tbody tr th {\n",
              "        vertical-align: top;\n",
              "    }\n",
              "\n",
              "    .dataframe thead th {\n",
              "        text-align: right;\n",
              "    }\n",
              "</style>\n",
              "<table border=\"1\" class=\"dataframe\">\n",
              "  <thead>\n",
              "    <tr style=\"text-align: right;\">\n",
              "      <th></th>\n",
              "      <th>group</th>\n",
              "      <th>year</th>\n",
              "      <th>value_1</th>\n",
              "      <th>value_2</th>\n",
              "    </tr>\n",
              "  </thead>\n",
              "  <tbody>\n",
              "    <tr>\n",
              "      <th>1</th>\n",
              "      <td>A</td>\n",
              "      <td>2011</td>\n",
              "      <td>6</td>\n",
              "      <td>7</td>\n",
              "    </tr>\n",
              "    <tr>\n",
              "      <th>2</th>\n",
              "      <td>B</td>\n",
              "      <td>2012</td>\n",
              "      <td>0</td>\n",
              "      <td>4</td>\n",
              "    </tr>\n",
              "    <tr>\n",
              "      <th>4</th>\n",
              "      <td>B</td>\n",
              "      <td>2014</td>\n",
              "      <td>0</td>\n",
              "      <td>1</td>\n",
              "    </tr>\n",
              "    <tr>\n",
              "      <th>5</th>\n",
              "      <td>B</td>\n",
              "      <td>2015</td>\n",
              "      <td>3</td>\n",
              "      <td>4</td>\n",
              "    </tr>\n",
              "    <tr>\n",
              "      <th>8</th>\n",
              "      <td>C</td>\n",
              "      <td>2018</td>\n",
              "      <td>4</td>\n",
              "      <td>5</td>\n",
              "    </tr>\n",
              "    <tr>\n",
              "      <th>9</th>\n",
              "      <td>C</td>\n",
              "      <td>2019</td>\n",
              "      <td>0</td>\n",
              "      <td>6</td>\n",
              "    </tr>\n",
              "  </tbody>\n",
              "</table>\n",
              "</div>"
            ],
            "text/plain": [
              "  group  year  value_1  value_2\n",
              "1     A  2011        6        7\n",
              "2     B  2012        0        4\n",
              "4     B  2014        0        1\n",
              "5     B  2015        3        4\n",
              "8     C  2018        4        5\n",
              "9     C  2019        0        6"
            ]
          },
          "metadata": {
            "tags": []
          },
          "execution_count": 7
        }
      ]
    },
    {
      "cell_type": "code",
      "metadata": {
        "id": "ciNqkTNxYOzb",
        "colab_type": "code",
        "colab": {}
      },
      "source": [
        "new_col = np.random.randn(10)"
      ],
      "execution_count": 8,
      "outputs": []
    },
    {
      "cell_type": "code",
      "metadata": {
        "id": "GIgjlr7BZEXW",
        "colab_type": "code",
        "colab": {}
      },
      "source": [
        "df.insert(2, 'new_col',new_col)\n"
      ],
      "execution_count": 9,
      "outputs": []
    },
    {
      "cell_type": "code",
      "metadata": {
        "id": "h6TAULN0ZXkI",
        "colab_type": "code",
        "colab": {
          "base_uri": "https://localhost:8080/",
          "height": 384
        },
        "outputId": "4e4ce876-bf95-4e78-f868-2c7f61366cf4"
      },
      "source": [
        "df"
      ],
      "execution_count": 10,
      "outputs": [
        {
          "output_type": "execute_result",
          "data": {
            "text/html": [
              "<div>\n",
              "<style scoped>\n",
              "    .dataframe tbody tr th:only-of-type {\n",
              "        vertical-align: middle;\n",
              "    }\n",
              "\n",
              "    .dataframe tbody tr th {\n",
              "        vertical-align: top;\n",
              "    }\n",
              "\n",
              "    .dataframe thead th {\n",
              "        text-align: right;\n",
              "    }\n",
              "</style>\n",
              "<table border=\"1\" class=\"dataframe\">\n",
              "  <thead>\n",
              "    <tr style=\"text-align: right;\">\n",
              "      <th></th>\n",
              "      <th>group</th>\n",
              "      <th>year</th>\n",
              "      <th>new_col</th>\n",
              "      <th>value_1</th>\n",
              "      <th>value_2</th>\n",
              "    </tr>\n",
              "  </thead>\n",
              "  <tbody>\n",
              "    <tr>\n",
              "      <th>0</th>\n",
              "      <td>A</td>\n",
              "      <td>2010</td>\n",
              "      <td>3.149183</td>\n",
              "      <td>9</td>\n",
              "      <td>3</td>\n",
              "    </tr>\n",
              "    <tr>\n",
              "      <th>1</th>\n",
              "      <td>A</td>\n",
              "      <td>2011</td>\n",
              "      <td>0.532873</td>\n",
              "      <td>6</td>\n",
              "      <td>7</td>\n",
              "    </tr>\n",
              "    <tr>\n",
              "      <th>2</th>\n",
              "      <td>B</td>\n",
              "      <td>2012</td>\n",
              "      <td>0.213676</td>\n",
              "      <td>0</td>\n",
              "      <td>4</td>\n",
              "    </tr>\n",
              "    <tr>\n",
              "      <th>3</th>\n",
              "      <td>A</td>\n",
              "      <td>2013</td>\n",
              "      <td>-1.194596</td>\n",
              "      <td>5</td>\n",
              "      <td>0</td>\n",
              "    </tr>\n",
              "    <tr>\n",
              "      <th>4</th>\n",
              "      <td>B</td>\n",
              "      <td>2014</td>\n",
              "      <td>-0.151651</td>\n",
              "      <td>0</td>\n",
              "      <td>1</td>\n",
              "    </tr>\n",
              "    <tr>\n",
              "      <th>5</th>\n",
              "      <td>B</td>\n",
              "      <td>2015</td>\n",
              "      <td>-1.090184</td>\n",
              "      <td>3</td>\n",
              "      <td>4</td>\n",
              "    </tr>\n",
              "    <tr>\n",
              "      <th>6</th>\n",
              "      <td>C</td>\n",
              "      <td>2016</td>\n",
              "      <td>1.611263</td>\n",
              "      <td>5</td>\n",
              "      <td>4</td>\n",
              "    </tr>\n",
              "    <tr>\n",
              "      <th>7</th>\n",
              "      <td>A</td>\n",
              "      <td>2017</td>\n",
              "      <td>-0.272470</td>\n",
              "      <td>8</td>\n",
              "      <td>0</td>\n",
              "    </tr>\n",
              "    <tr>\n",
              "      <th>8</th>\n",
              "      <td>C</td>\n",
              "      <td>2018</td>\n",
              "      <td>-0.542211</td>\n",
              "      <td>4</td>\n",
              "      <td>5</td>\n",
              "    </tr>\n",
              "    <tr>\n",
              "      <th>9</th>\n",
              "      <td>C</td>\n",
              "      <td>2019</td>\n",
              "      <td>-0.184487</td>\n",
              "      <td>0</td>\n",
              "      <td>6</td>\n",
              "    </tr>\n",
              "  </tbody>\n",
              "</table>\n",
              "</div>"
            ],
            "text/plain": [
              "  group  year   new_col  value_1  value_2\n",
              "0     A  2010  3.149183        9        3\n",
              "1     A  2011  0.532873        6        7\n",
              "2     B  2012  0.213676        0        4\n",
              "3     A  2013 -1.194596        5        0\n",
              "4     B  2014 -0.151651        0        1\n",
              "5     B  2015 -1.090184        3        4\n",
              "6     C  2016  1.611263        5        4\n",
              "7     A  2017 -0.272470        8        0\n",
              "8     C  2018 -0.542211        4        5\n",
              "9     C  2019 -0.184487        0        6"
            ]
          },
          "metadata": {
            "tags": []
          },
          "execution_count": 10
        }
      ]
    },
    {
      "cell_type": "code",
      "metadata": {
        "id": "bYcU9AYQZc5P",
        "colab_type": "code",
        "colab": {
          "base_uri": "https://localhost:8080/",
          "height": 384
        },
        "outputId": "c295b953-0e42-4c31-8a6f-afdd369a6370"
      },
      "source": [
        "df['cumsum_2'] = df[['value_2','group']].groupby('group').cumsum()\n",
        "df"
      ],
      "execution_count": 11,
      "outputs": [
        {
          "output_type": "execute_result",
          "data": {
            "text/html": [
              "<div>\n",
              "<style scoped>\n",
              "    .dataframe tbody tr th:only-of-type {\n",
              "        vertical-align: middle;\n",
              "    }\n",
              "\n",
              "    .dataframe tbody tr th {\n",
              "        vertical-align: top;\n",
              "    }\n",
              "\n",
              "    .dataframe thead th {\n",
              "        text-align: right;\n",
              "    }\n",
              "</style>\n",
              "<table border=\"1\" class=\"dataframe\">\n",
              "  <thead>\n",
              "    <tr style=\"text-align: right;\">\n",
              "      <th></th>\n",
              "      <th>group</th>\n",
              "      <th>year</th>\n",
              "      <th>new_col</th>\n",
              "      <th>value_1</th>\n",
              "      <th>value_2</th>\n",
              "      <th>cumsum_2</th>\n",
              "    </tr>\n",
              "  </thead>\n",
              "  <tbody>\n",
              "    <tr>\n",
              "      <th>0</th>\n",
              "      <td>A</td>\n",
              "      <td>2010</td>\n",
              "      <td>3.149183</td>\n",
              "      <td>9</td>\n",
              "      <td>3</td>\n",
              "      <td>3</td>\n",
              "    </tr>\n",
              "    <tr>\n",
              "      <th>1</th>\n",
              "      <td>A</td>\n",
              "      <td>2011</td>\n",
              "      <td>0.532873</td>\n",
              "      <td>6</td>\n",
              "      <td>7</td>\n",
              "      <td>10</td>\n",
              "    </tr>\n",
              "    <tr>\n",
              "      <th>2</th>\n",
              "      <td>B</td>\n",
              "      <td>2012</td>\n",
              "      <td>0.213676</td>\n",
              "      <td>0</td>\n",
              "      <td>4</td>\n",
              "      <td>4</td>\n",
              "    </tr>\n",
              "    <tr>\n",
              "      <th>3</th>\n",
              "      <td>A</td>\n",
              "      <td>2013</td>\n",
              "      <td>-1.194596</td>\n",
              "      <td>5</td>\n",
              "      <td>0</td>\n",
              "      <td>10</td>\n",
              "    </tr>\n",
              "    <tr>\n",
              "      <th>4</th>\n",
              "      <td>B</td>\n",
              "      <td>2014</td>\n",
              "      <td>-0.151651</td>\n",
              "      <td>0</td>\n",
              "      <td>1</td>\n",
              "      <td>5</td>\n",
              "    </tr>\n",
              "    <tr>\n",
              "      <th>5</th>\n",
              "      <td>B</td>\n",
              "      <td>2015</td>\n",
              "      <td>-1.090184</td>\n",
              "      <td>3</td>\n",
              "      <td>4</td>\n",
              "      <td>9</td>\n",
              "    </tr>\n",
              "    <tr>\n",
              "      <th>6</th>\n",
              "      <td>C</td>\n",
              "      <td>2016</td>\n",
              "      <td>1.611263</td>\n",
              "      <td>5</td>\n",
              "      <td>4</td>\n",
              "      <td>4</td>\n",
              "    </tr>\n",
              "    <tr>\n",
              "      <th>7</th>\n",
              "      <td>A</td>\n",
              "      <td>2017</td>\n",
              "      <td>-0.272470</td>\n",
              "      <td>8</td>\n",
              "      <td>0</td>\n",
              "      <td>10</td>\n",
              "    </tr>\n",
              "    <tr>\n",
              "      <th>8</th>\n",
              "      <td>C</td>\n",
              "      <td>2018</td>\n",
              "      <td>-0.542211</td>\n",
              "      <td>4</td>\n",
              "      <td>5</td>\n",
              "      <td>9</td>\n",
              "    </tr>\n",
              "    <tr>\n",
              "      <th>9</th>\n",
              "      <td>C</td>\n",
              "      <td>2019</td>\n",
              "      <td>-0.184487</td>\n",
              "      <td>0</td>\n",
              "      <td>6</td>\n",
              "      <td>15</td>\n",
              "    </tr>\n",
              "  </tbody>\n",
              "</table>\n",
              "</div>"
            ],
            "text/plain": [
              "  group  year   new_col  value_1  value_2  cumsum_2\n",
              "0     A  2010  3.149183        9        3         3\n",
              "1     A  2011  0.532873        6        7        10\n",
              "2     B  2012  0.213676        0        4         4\n",
              "3     A  2013 -1.194596        5        0        10\n",
              "4     B  2014 -0.151651        0        1         5\n",
              "5     B  2015 -1.090184        3        4         9\n",
              "6     C  2016  1.611263        5        4         4\n",
              "7     A  2017 -0.272470        8        0        10\n",
              "8     C  2018 -0.542211        4        5         9\n",
              "9     C  2019 -0.184487        0        6        15"
            ]
          },
          "metadata": {
            "tags": []
          },
          "execution_count": 11
        }
      ]
    },
    {
      "cell_type": "code",
      "metadata": {
        "id": "ylUbZ0I9cyLa",
        "colab_type": "code",
        "colab": {}
      },
      "source": [
        ""
      ],
      "execution_count": 11,
      "outputs": []
    },
    {
      "cell_type": "markdown",
      "metadata": {
        "id": "otvW0vB6dQhf",
        "colab_type": "text"
      },
      "source": [
        "SMPLE"
      ]
    },
    {
      "cell_type": "code",
      "metadata": {
        "id": "g0plwuJadMDI",
        "colab_type": "code",
        "colab": {
          "base_uri": "https://localhost:8080/",
          "height": 151
        },
        "outputId": "14a54965-5589-43ac-aba1-b87c102eec88"
      },
      "source": [
        "Sample1 = df.sample(n=3)\n",
        "Sample1"
      ],
      "execution_count": 12,
      "outputs": [
        {
          "output_type": "execute_result",
          "data": {
            "text/html": [
              "<div>\n",
              "<style scoped>\n",
              "    .dataframe tbody tr th:only-of-type {\n",
              "        vertical-align: middle;\n",
              "    }\n",
              "\n",
              "    .dataframe tbody tr th {\n",
              "        vertical-align: top;\n",
              "    }\n",
              "\n",
              "    .dataframe thead th {\n",
              "        text-align: right;\n",
              "    }\n",
              "</style>\n",
              "<table border=\"1\" class=\"dataframe\">\n",
              "  <thead>\n",
              "    <tr style=\"text-align: right;\">\n",
              "      <th></th>\n",
              "      <th>group</th>\n",
              "      <th>year</th>\n",
              "      <th>new_col</th>\n",
              "      <th>value_1</th>\n",
              "      <th>value_2</th>\n",
              "      <th>cumsum_2</th>\n",
              "    </tr>\n",
              "  </thead>\n",
              "  <tbody>\n",
              "    <tr>\n",
              "      <th>5</th>\n",
              "      <td>B</td>\n",
              "      <td>2015</td>\n",
              "      <td>-1.090184</td>\n",
              "      <td>3</td>\n",
              "      <td>4</td>\n",
              "      <td>9</td>\n",
              "    </tr>\n",
              "    <tr>\n",
              "      <th>3</th>\n",
              "      <td>A</td>\n",
              "      <td>2013</td>\n",
              "      <td>-1.194596</td>\n",
              "      <td>5</td>\n",
              "      <td>0</td>\n",
              "      <td>10</td>\n",
              "    </tr>\n",
              "    <tr>\n",
              "      <th>9</th>\n",
              "      <td>C</td>\n",
              "      <td>2019</td>\n",
              "      <td>-0.184487</td>\n",
              "      <td>0</td>\n",
              "      <td>6</td>\n",
              "      <td>15</td>\n",
              "    </tr>\n",
              "  </tbody>\n",
              "</table>\n",
              "</div>"
            ],
            "text/plain": [
              "  group  year   new_col  value_1  value_2  cumsum_2\n",
              "5     B  2015 -1.090184        3        4         9\n",
              "3     A  2013 -1.194596        5        0        10\n",
              "9     C  2019 -0.184487        0        6        15"
            ]
          },
          "metadata": {
            "tags": []
          },
          "execution_count": 12
        }
      ]
    },
    {
      "cell_type": "code",
      "metadata": {
        "id": "z3JlSGGjbqet",
        "colab_type": "code",
        "colab": {
          "base_uri": "https://localhost:8080/",
          "height": 217
        },
        "outputId": "262fa294-300e-4632-e553-161d03f135d9"
      },
      "source": [
        "Sample2 = df.sample(frac=0.5)\n",
        "Sample2"
      ],
      "execution_count": 13,
      "outputs": [
        {
          "output_type": "execute_result",
          "data": {
            "text/html": [
              "<div>\n",
              "<style scoped>\n",
              "    .dataframe tbody tr th:only-of-type {\n",
              "        vertical-align: middle;\n",
              "    }\n",
              "\n",
              "    .dataframe tbody tr th {\n",
              "        vertical-align: top;\n",
              "    }\n",
              "\n",
              "    .dataframe thead th {\n",
              "        text-align: right;\n",
              "    }\n",
              "</style>\n",
              "<table border=\"1\" class=\"dataframe\">\n",
              "  <thead>\n",
              "    <tr style=\"text-align: right;\">\n",
              "      <th></th>\n",
              "      <th>group</th>\n",
              "      <th>year</th>\n",
              "      <th>new_col</th>\n",
              "      <th>value_1</th>\n",
              "      <th>value_2</th>\n",
              "      <th>cumsum_2</th>\n",
              "    </tr>\n",
              "  </thead>\n",
              "  <tbody>\n",
              "    <tr>\n",
              "      <th>5</th>\n",
              "      <td>B</td>\n",
              "      <td>2015</td>\n",
              "      <td>-1.090184</td>\n",
              "      <td>3</td>\n",
              "      <td>4</td>\n",
              "      <td>9</td>\n",
              "    </tr>\n",
              "    <tr>\n",
              "      <th>4</th>\n",
              "      <td>B</td>\n",
              "      <td>2014</td>\n",
              "      <td>-0.151651</td>\n",
              "      <td>0</td>\n",
              "      <td>1</td>\n",
              "      <td>5</td>\n",
              "    </tr>\n",
              "    <tr>\n",
              "      <th>9</th>\n",
              "      <td>C</td>\n",
              "      <td>2019</td>\n",
              "      <td>-0.184487</td>\n",
              "      <td>0</td>\n",
              "      <td>6</td>\n",
              "      <td>15</td>\n",
              "    </tr>\n",
              "    <tr>\n",
              "      <th>7</th>\n",
              "      <td>A</td>\n",
              "      <td>2017</td>\n",
              "      <td>-0.272470</td>\n",
              "      <td>8</td>\n",
              "      <td>0</td>\n",
              "      <td>10</td>\n",
              "    </tr>\n",
              "    <tr>\n",
              "      <th>3</th>\n",
              "      <td>A</td>\n",
              "      <td>2013</td>\n",
              "      <td>-1.194596</td>\n",
              "      <td>5</td>\n",
              "      <td>0</td>\n",
              "      <td>10</td>\n",
              "    </tr>\n",
              "  </tbody>\n",
              "</table>\n",
              "</div>"
            ],
            "text/plain": [
              "  group  year   new_col  value_1  value_2  cumsum_2\n",
              "5     B  2015 -1.090184        3        4         9\n",
              "4     B  2014 -0.151651        0        1         5\n",
              "9     C  2019 -0.184487        0        6        15\n",
              "7     A  2017 -0.272470        8        0        10\n",
              "3     A  2013 -1.194596        5        0        10"
            ]
          },
          "metadata": {
            "tags": []
          },
          "execution_count": 13
        }
      ]
    },
    {
      "cell_type": "code",
      "metadata": {
        "id": "pQrnb6p0dwES",
        "colab_type": "code",
        "colab": {
          "base_uri": "https://localhost:8080/",
          "height": 248
        },
        "outputId": "cac887ad-4140-44a2-8567-f4127753b261"
      },
      "source": [
        "df['new_col'].where(df['new_col']>0,0)"
      ],
      "execution_count": 14,
      "outputs": [
        {
          "output_type": "execute_result",
          "data": {
            "text/plain": [
              "0    3.149183\n",
              "1    0.532873\n",
              "2    0.213676\n",
              "3    0.000000\n",
              "4    0.000000\n",
              "5    0.000000\n",
              "6    1.611263\n",
              "7    0.000000\n",
              "8    0.000000\n",
              "9    0.000000\n",
              "Name: new_col, dtype: float64"
            ]
          },
          "metadata": {
            "tags": []
          },
          "execution_count": 14
        }
      ]
    },
    {
      "cell_type": "code",
      "metadata": {
        "id": "BguQy0h6eJHn",
        "colab_type": "code",
        "colab": {
          "base_uri": "https://localhost:8080/",
          "height": 58
        },
        "outputId": "aa21ce82-6113-4268-9f12-9b77e30337de"
      },
      "source": [
        "np.where(df['new_col'] >0, df['new_col'], 0)"
      ],
      "execution_count": 15,
      "outputs": [
        {
          "output_type": "execute_result",
          "data": {
            "text/plain": [
              "array([3.14918309, 0.53287291, 0.21367595, 0.        , 0.        ,\n",
              "       0.        , 1.61126254, 0.        , 0.        , 0.        ])"
            ]
          },
          "metadata": {
            "tags": []
          },
          "execution_count": 15
        }
      ]
    },
    {
      "cell_type": "code",
      "metadata": {
        "id": "lrgudZNSg-X6",
        "colab_type": "code",
        "colab": {}
      },
      "source": [
        ""
      ],
      "execution_count": 15,
      "outputs": []
    },
    {
      "cell_type": "markdown",
      "metadata": {
        "id": "EFn_nkRkhO5b",
        "colab_type": "text"
      },
      "source": [
        "isin"
      ]
    },
    {
      "cell_type": "code",
      "metadata": {
        "id": "OMOf1BMbhQo7",
        "colab_type": "code",
        "colab": {}
      },
      "source": [
        "years = ['2010','2014','2015']"
      ],
      "execution_count": 16,
      "outputs": []
    },
    {
      "cell_type": "code",
      "metadata": {
        "id": "ju9cT1tQhbb3",
        "colab_type": "code",
        "colab": {
          "base_uri": "https://localhost:8080/",
          "height": 151
        },
        "outputId": "e9c9ae3c-9bf2-4b54-9aef-b1ba20420c3b"
      },
      "source": [
        "df[df.year.isin(years)]"
      ],
      "execution_count": 17,
      "outputs": [
        {
          "output_type": "execute_result",
          "data": {
            "text/html": [
              "<div>\n",
              "<style scoped>\n",
              "    .dataframe tbody tr th:only-of-type {\n",
              "        vertical-align: middle;\n",
              "    }\n",
              "\n",
              "    .dataframe tbody tr th {\n",
              "        vertical-align: top;\n",
              "    }\n",
              "\n",
              "    .dataframe thead th {\n",
              "        text-align: right;\n",
              "    }\n",
              "</style>\n",
              "<table border=\"1\" class=\"dataframe\">\n",
              "  <thead>\n",
              "    <tr style=\"text-align: right;\">\n",
              "      <th></th>\n",
              "      <th>group</th>\n",
              "      <th>year</th>\n",
              "      <th>new_col</th>\n",
              "      <th>value_1</th>\n",
              "      <th>value_2</th>\n",
              "      <th>cumsum_2</th>\n",
              "    </tr>\n",
              "  </thead>\n",
              "  <tbody>\n",
              "    <tr>\n",
              "      <th>0</th>\n",
              "      <td>A</td>\n",
              "      <td>2010</td>\n",
              "      <td>3.149183</td>\n",
              "      <td>9</td>\n",
              "      <td>3</td>\n",
              "      <td>3</td>\n",
              "    </tr>\n",
              "    <tr>\n",
              "      <th>4</th>\n",
              "      <td>B</td>\n",
              "      <td>2014</td>\n",
              "      <td>-0.151651</td>\n",
              "      <td>0</td>\n",
              "      <td>1</td>\n",
              "      <td>5</td>\n",
              "    </tr>\n",
              "    <tr>\n",
              "      <th>5</th>\n",
              "      <td>B</td>\n",
              "      <td>2015</td>\n",
              "      <td>-1.090184</td>\n",
              "      <td>3</td>\n",
              "      <td>4</td>\n",
              "      <td>9</td>\n",
              "    </tr>\n",
              "  </tbody>\n",
              "</table>\n",
              "</div>"
            ],
            "text/plain": [
              "  group  year   new_col  value_1  value_2  cumsum_2\n",
              "0     A  2010  3.149183        9        3         3\n",
              "4     B  2014 -0.151651        0        1         5\n",
              "5     B  2015 -1.090184        3        4         9"
            ]
          },
          "metadata": {
            "tags": []
          },
          "execution_count": 17
        }
      ]
    },
    {
      "cell_type": "code",
      "metadata": {
        "id": "bp1S4N6jhjB4",
        "colab_type": "code",
        "colab": {
          "base_uri": "https://localhost:8080/",
          "height": 151
        },
        "outputId": "81a61f7f-b7e4-4bdd-987c-d2d2ec60586a"
      },
      "source": [
        "df.loc[:2, ['group','year'] ]"
      ],
      "execution_count": 18,
      "outputs": [
        {
          "output_type": "execute_result",
          "data": {
            "text/html": [
              "<div>\n",
              "<style scoped>\n",
              "    .dataframe tbody tr th:only-of-type {\n",
              "        vertical-align: middle;\n",
              "    }\n",
              "\n",
              "    .dataframe tbody tr th {\n",
              "        vertical-align: top;\n",
              "    }\n",
              "\n",
              "    .dataframe thead th {\n",
              "        text-align: right;\n",
              "    }\n",
              "</style>\n",
              "<table border=\"1\" class=\"dataframe\">\n",
              "  <thead>\n",
              "    <tr style=\"text-align: right;\">\n",
              "      <th></th>\n",
              "      <th>group</th>\n",
              "      <th>year</th>\n",
              "    </tr>\n",
              "  </thead>\n",
              "  <tbody>\n",
              "    <tr>\n",
              "      <th>0</th>\n",
              "      <td>A</td>\n",
              "      <td>2010</td>\n",
              "    </tr>\n",
              "    <tr>\n",
              "      <th>1</th>\n",
              "      <td>A</td>\n",
              "      <td>2011</td>\n",
              "    </tr>\n",
              "    <tr>\n",
              "      <th>2</th>\n",
              "      <td>B</td>\n",
              "      <td>2012</td>\n",
              "    </tr>\n",
              "  </tbody>\n",
              "</table>\n",
              "</div>"
            ],
            "text/plain": [
              "  group  year\n",
              "0     A  2010\n",
              "1     A  2011\n",
              "2     B  2012"
            ]
          },
          "metadata": {
            "tags": []
          },
          "execution_count": 18
        }
      ]
    },
    {
      "cell_type": "code",
      "metadata": {
        "id": "6HJ9O3YHh4XZ",
        "colab_type": "code",
        "colab": {
          "base_uri": "https://localhost:8080/",
          "height": 151
        },
        "outputId": "1fab32b7-3d4d-4bef-c9bd-a0d621242c58"
      },
      "source": [
        "df.loc[[1,3,5],['year','value_1']]"
      ],
      "execution_count": 19,
      "outputs": [
        {
          "output_type": "execute_result",
          "data": {
            "text/html": [
              "<div>\n",
              "<style scoped>\n",
              "    .dataframe tbody tr th:only-of-type {\n",
              "        vertical-align: middle;\n",
              "    }\n",
              "\n",
              "    .dataframe tbody tr th {\n",
              "        vertical-align: top;\n",
              "    }\n",
              "\n",
              "    .dataframe thead th {\n",
              "        text-align: right;\n",
              "    }\n",
              "</style>\n",
              "<table border=\"1\" class=\"dataframe\">\n",
              "  <thead>\n",
              "    <tr style=\"text-align: right;\">\n",
              "      <th></th>\n",
              "      <th>year</th>\n",
              "      <th>value_1</th>\n",
              "    </tr>\n",
              "  </thead>\n",
              "  <tbody>\n",
              "    <tr>\n",
              "      <th>1</th>\n",
              "      <td>2011</td>\n",
              "      <td>6</td>\n",
              "    </tr>\n",
              "    <tr>\n",
              "      <th>3</th>\n",
              "      <td>2013</td>\n",
              "      <td>5</td>\n",
              "    </tr>\n",
              "    <tr>\n",
              "      <th>5</th>\n",
              "      <td>2015</td>\n",
              "      <td>3</td>\n",
              "    </tr>\n",
              "  </tbody>\n",
              "</table>\n",
              "</div>"
            ],
            "text/plain": [
              "   year  value_1\n",
              "1  2011        6\n",
              "3  2013        5\n",
              "5  2015        3"
            ]
          },
          "metadata": {
            "tags": []
          },
          "execution_count": 19
        }
      ]
    },
    {
      "cell_type": "code",
      "metadata": {
        "id": "fPkmpu95iNEH",
        "colab_type": "code",
        "colab": {
          "base_uri": "https://localhost:8080/",
          "height": 248
        },
        "outputId": "0af9fbd5-91db-489f-cba6-8894abacacdf"
      },
      "source": [
        "df['value_1']"
      ],
      "execution_count": 20,
      "outputs": [
        {
          "output_type": "execute_result",
          "data": {
            "text/plain": [
              "0    9\n",
              "1    6\n",
              "2    0\n",
              "3    5\n",
              "4    0\n",
              "5    3\n",
              "6    5\n",
              "7    8\n",
              "8    4\n",
              "9    0\n",
              "Name: value_1, dtype: int64"
            ]
          },
          "metadata": {
            "tags": []
          },
          "execution_count": 20
        }
      ]
    },
    {
      "cell_type": "code",
      "metadata": {
        "id": "w3r3WUlvicBD",
        "colab_type": "code",
        "colab": {
          "base_uri": "https://localhost:8080/",
          "height": 248
        },
        "outputId": "f2302681-1115-4d31-d1b7-34d2847c216d"
      },
      "source": [
        "df.value_1.pct_change()"
      ],
      "execution_count": 21,
      "outputs": [
        {
          "output_type": "execute_result",
          "data": {
            "text/plain": [
              "0         NaN\n",
              "1   -0.333333\n",
              "2   -1.000000\n",
              "3         inf\n",
              "4   -1.000000\n",
              "5         inf\n",
              "6    0.666667\n",
              "7    0.600000\n",
              "8   -0.500000\n",
              "9   -1.000000\n",
              "Name: value_1, dtype: float64"
            ]
          },
          "metadata": {
            "tags": []
          },
          "execution_count": 21
        }
      ]
    },
    {
      "cell_type": "code",
      "metadata": {
        "id": "cROERtKUinI7",
        "colab_type": "code",
        "colab": {
          "base_uri": "https://localhost:8080/",
          "height": 248
        },
        "outputId": "035d5228-24f9-41f9-9893-9411ddcaf971"
      },
      "source": [
        "df.value_1.sort_values()"
      ],
      "execution_count": 22,
      "outputs": [
        {
          "output_type": "execute_result",
          "data": {
            "text/plain": [
              "2    0\n",
              "4    0\n",
              "9    0\n",
              "5    3\n",
              "8    4\n",
              "3    5\n",
              "6    5\n",
              "1    6\n",
              "7    8\n",
              "0    9\n",
              "Name: value_1, dtype: int64"
            ]
          },
          "metadata": {
            "tags": []
          },
          "execution_count": 22
        }
      ]
    },
    {
      "cell_type": "code",
      "metadata": {
        "id": "4MxhCAu7iuEV",
        "colab_type": "code",
        "colab": {
          "base_uri": "https://localhost:8080/",
          "height": 248
        },
        "outputId": "783378b2-c06f-4255-fe80-04ac671825a1"
      },
      "source": [
        "df.value_1.sort_values().pct_change()"
      ],
      "execution_count": 23,
      "outputs": [
        {
          "output_type": "execute_result",
          "data": {
            "text/plain": [
              "2         NaN\n",
              "4         NaN\n",
              "9         NaN\n",
              "5         inf\n",
              "8    0.333333\n",
              "3    0.250000\n",
              "6    0.000000\n",
              "1    0.200000\n",
              "7    0.333333\n",
              "0    0.125000\n",
              "Name: value_1, dtype: float64"
            ]
          },
          "metadata": {
            "tags": []
          },
          "execution_count": 23
        }
      ]
    },
    {
      "cell_type": "code",
      "metadata": {
        "id": "JT7-kkfJi9XP",
        "colab_type": "code",
        "colab": {
          "base_uri": "https://localhost:8080/",
          "height": 384
        },
        "outputId": "7974bd69-09d5-4b58-bd49-ac4380d8b321"
      },
      "source": [
        "df['rank_1'] = df['value_1'].rank( )\n",
        "df"
      ],
      "execution_count": 24,
      "outputs": [
        {
          "output_type": "execute_result",
          "data": {
            "text/html": [
              "<div>\n",
              "<style scoped>\n",
              "    .dataframe tbody tr th:only-of-type {\n",
              "        vertical-align: middle;\n",
              "    }\n",
              "\n",
              "    .dataframe tbody tr th {\n",
              "        vertical-align: top;\n",
              "    }\n",
              "\n",
              "    .dataframe thead th {\n",
              "        text-align: right;\n",
              "    }\n",
              "</style>\n",
              "<table border=\"1\" class=\"dataframe\">\n",
              "  <thead>\n",
              "    <tr style=\"text-align: right;\">\n",
              "      <th></th>\n",
              "      <th>group</th>\n",
              "      <th>year</th>\n",
              "      <th>new_col</th>\n",
              "      <th>value_1</th>\n",
              "      <th>value_2</th>\n",
              "      <th>cumsum_2</th>\n",
              "      <th>rank_1</th>\n",
              "    </tr>\n",
              "  </thead>\n",
              "  <tbody>\n",
              "    <tr>\n",
              "      <th>0</th>\n",
              "      <td>A</td>\n",
              "      <td>2010</td>\n",
              "      <td>3.149183</td>\n",
              "      <td>9</td>\n",
              "      <td>3</td>\n",
              "      <td>3</td>\n",
              "      <td>10.0</td>\n",
              "    </tr>\n",
              "    <tr>\n",
              "      <th>1</th>\n",
              "      <td>A</td>\n",
              "      <td>2011</td>\n",
              "      <td>0.532873</td>\n",
              "      <td>6</td>\n",
              "      <td>7</td>\n",
              "      <td>10</td>\n",
              "      <td>8.0</td>\n",
              "    </tr>\n",
              "    <tr>\n",
              "      <th>2</th>\n",
              "      <td>B</td>\n",
              "      <td>2012</td>\n",
              "      <td>0.213676</td>\n",
              "      <td>0</td>\n",
              "      <td>4</td>\n",
              "      <td>4</td>\n",
              "      <td>2.0</td>\n",
              "    </tr>\n",
              "    <tr>\n",
              "      <th>3</th>\n",
              "      <td>A</td>\n",
              "      <td>2013</td>\n",
              "      <td>-1.194596</td>\n",
              "      <td>5</td>\n",
              "      <td>0</td>\n",
              "      <td>10</td>\n",
              "      <td>6.5</td>\n",
              "    </tr>\n",
              "    <tr>\n",
              "      <th>4</th>\n",
              "      <td>B</td>\n",
              "      <td>2014</td>\n",
              "      <td>-0.151651</td>\n",
              "      <td>0</td>\n",
              "      <td>1</td>\n",
              "      <td>5</td>\n",
              "      <td>2.0</td>\n",
              "    </tr>\n",
              "    <tr>\n",
              "      <th>5</th>\n",
              "      <td>B</td>\n",
              "      <td>2015</td>\n",
              "      <td>-1.090184</td>\n",
              "      <td>3</td>\n",
              "      <td>4</td>\n",
              "      <td>9</td>\n",
              "      <td>4.0</td>\n",
              "    </tr>\n",
              "    <tr>\n",
              "      <th>6</th>\n",
              "      <td>C</td>\n",
              "      <td>2016</td>\n",
              "      <td>1.611263</td>\n",
              "      <td>5</td>\n",
              "      <td>4</td>\n",
              "      <td>4</td>\n",
              "      <td>6.5</td>\n",
              "    </tr>\n",
              "    <tr>\n",
              "      <th>7</th>\n",
              "      <td>A</td>\n",
              "      <td>2017</td>\n",
              "      <td>-0.272470</td>\n",
              "      <td>8</td>\n",
              "      <td>0</td>\n",
              "      <td>10</td>\n",
              "      <td>9.0</td>\n",
              "    </tr>\n",
              "    <tr>\n",
              "      <th>8</th>\n",
              "      <td>C</td>\n",
              "      <td>2018</td>\n",
              "      <td>-0.542211</td>\n",
              "      <td>4</td>\n",
              "      <td>5</td>\n",
              "      <td>9</td>\n",
              "      <td>5.0</td>\n",
              "    </tr>\n",
              "    <tr>\n",
              "      <th>9</th>\n",
              "      <td>C</td>\n",
              "      <td>2019</td>\n",
              "      <td>-0.184487</td>\n",
              "      <td>0</td>\n",
              "      <td>6</td>\n",
              "      <td>15</td>\n",
              "      <td>2.0</td>\n",
              "    </tr>\n",
              "  </tbody>\n",
              "</table>\n",
              "</div>"
            ],
            "text/plain": [
              "  group  year   new_col  value_1  value_2  cumsum_2  rank_1\n",
              "0     A  2010  3.149183        9        3         3    10.0\n",
              "1     A  2011  0.532873        6        7        10     8.0\n",
              "2     B  2012  0.213676        0        4         4     2.0\n",
              "3     A  2013 -1.194596        5        0        10     6.5\n",
              "4     B  2014 -0.151651        0        1         5     2.0\n",
              "5     B  2015 -1.090184        3        4         9     4.0\n",
              "6     C  2016  1.611263        5        4         4     6.5\n",
              "7     A  2017 -0.272470        8        0        10     9.0\n",
              "8     C  2018 -0.542211        4        5         9     5.0\n",
              "9     C  2019 -0.184487        0        6        15     2.0"
            ]
          },
          "metadata": {
            "tags": []
          },
          "execution_count": 24
        }
      ]
    },
    {
      "cell_type": "code",
      "metadata": {
        "id": "8-vYWCHnjglU",
        "colab_type": "code",
        "colab": {
          "base_uri": "https://localhost:8080/",
          "height": 384
        },
        "outputId": "b17f69cd-294d-4277-8b7d-f19c6a822db7"
      },
      "source": [
        "df.select_dtypes(exclude='int64')"
      ],
      "execution_count": 25,
      "outputs": [
        {
          "output_type": "execute_result",
          "data": {
            "text/html": [
              "<div>\n",
              "<style scoped>\n",
              "    .dataframe tbody tr th:only-of-type {\n",
              "        vertical-align: middle;\n",
              "    }\n",
              "\n",
              "    .dataframe tbody tr th {\n",
              "        vertical-align: top;\n",
              "    }\n",
              "\n",
              "    .dataframe thead th {\n",
              "        text-align: right;\n",
              "    }\n",
              "</style>\n",
              "<table border=\"1\" class=\"dataframe\">\n",
              "  <thead>\n",
              "    <tr style=\"text-align: right;\">\n",
              "      <th></th>\n",
              "      <th>group</th>\n",
              "      <th>new_col</th>\n",
              "      <th>rank_1</th>\n",
              "    </tr>\n",
              "  </thead>\n",
              "  <tbody>\n",
              "    <tr>\n",
              "      <th>0</th>\n",
              "      <td>A</td>\n",
              "      <td>3.149183</td>\n",
              "      <td>10.0</td>\n",
              "    </tr>\n",
              "    <tr>\n",
              "      <th>1</th>\n",
              "      <td>A</td>\n",
              "      <td>0.532873</td>\n",
              "      <td>8.0</td>\n",
              "    </tr>\n",
              "    <tr>\n",
              "      <th>2</th>\n",
              "      <td>B</td>\n",
              "      <td>0.213676</td>\n",
              "      <td>2.0</td>\n",
              "    </tr>\n",
              "    <tr>\n",
              "      <th>3</th>\n",
              "      <td>A</td>\n",
              "      <td>-1.194596</td>\n",
              "      <td>6.5</td>\n",
              "    </tr>\n",
              "    <tr>\n",
              "      <th>4</th>\n",
              "      <td>B</td>\n",
              "      <td>-0.151651</td>\n",
              "      <td>2.0</td>\n",
              "    </tr>\n",
              "    <tr>\n",
              "      <th>5</th>\n",
              "      <td>B</td>\n",
              "      <td>-1.090184</td>\n",
              "      <td>4.0</td>\n",
              "    </tr>\n",
              "    <tr>\n",
              "      <th>6</th>\n",
              "      <td>C</td>\n",
              "      <td>1.611263</td>\n",
              "      <td>6.5</td>\n",
              "    </tr>\n",
              "    <tr>\n",
              "      <th>7</th>\n",
              "      <td>A</td>\n",
              "      <td>-0.272470</td>\n",
              "      <td>9.0</td>\n",
              "    </tr>\n",
              "    <tr>\n",
              "      <th>8</th>\n",
              "      <td>C</td>\n",
              "      <td>-0.542211</td>\n",
              "      <td>5.0</td>\n",
              "    </tr>\n",
              "    <tr>\n",
              "      <th>9</th>\n",
              "      <td>C</td>\n",
              "      <td>-0.184487</td>\n",
              "      <td>2.0</td>\n",
              "    </tr>\n",
              "  </tbody>\n",
              "</table>\n",
              "</div>"
            ],
            "text/plain": [
              "  group   new_col  rank_1\n",
              "0     A  3.149183    10.0\n",
              "1     A  0.532873     8.0\n",
              "2     B  0.213676     2.0\n",
              "3     A -1.194596     6.5\n",
              "4     B -0.151651     2.0\n",
              "5     B -1.090184     4.0\n",
              "6     C  1.611263     6.5\n",
              "7     A -0.272470     9.0\n",
              "8     C -0.542211     5.0\n",
              "9     C -0.184487     2.0"
            ]
          },
          "metadata": {
            "tags": []
          },
          "execution_count": 25
        }
      ]
    },
    {
      "cell_type": "code",
      "metadata": {
        "id": "NDwEzZ_cuzDK",
        "colab_type": "code",
        "colab": {
          "base_uri": "https://localhost:8080/",
          "height": 384
        },
        "outputId": "3602fc81-1f77-4df7-a987-f7d31c74efb1"
      },
      "source": [
        "df.replace({'A':'A_1','B':'B_1'})"
      ],
      "execution_count": 26,
      "outputs": [
        {
          "output_type": "execute_result",
          "data": {
            "text/html": [
              "<div>\n",
              "<style scoped>\n",
              "    .dataframe tbody tr th:only-of-type {\n",
              "        vertical-align: middle;\n",
              "    }\n",
              "\n",
              "    .dataframe tbody tr th {\n",
              "        vertical-align: top;\n",
              "    }\n",
              "\n",
              "    .dataframe thead th {\n",
              "        text-align: right;\n",
              "    }\n",
              "</style>\n",
              "<table border=\"1\" class=\"dataframe\">\n",
              "  <thead>\n",
              "    <tr style=\"text-align: right;\">\n",
              "      <th></th>\n",
              "      <th>group</th>\n",
              "      <th>year</th>\n",
              "      <th>new_col</th>\n",
              "      <th>value_1</th>\n",
              "      <th>value_2</th>\n",
              "      <th>cumsum_2</th>\n",
              "      <th>rank_1</th>\n",
              "    </tr>\n",
              "  </thead>\n",
              "  <tbody>\n",
              "    <tr>\n",
              "      <th>0</th>\n",
              "      <td>A_1</td>\n",
              "      <td>2010</td>\n",
              "      <td>3.149183</td>\n",
              "      <td>9</td>\n",
              "      <td>3</td>\n",
              "      <td>3</td>\n",
              "      <td>10.0</td>\n",
              "    </tr>\n",
              "    <tr>\n",
              "      <th>1</th>\n",
              "      <td>A_1</td>\n",
              "      <td>2011</td>\n",
              "      <td>0.532873</td>\n",
              "      <td>6</td>\n",
              "      <td>7</td>\n",
              "      <td>10</td>\n",
              "      <td>8.0</td>\n",
              "    </tr>\n",
              "    <tr>\n",
              "      <th>2</th>\n",
              "      <td>B_1</td>\n",
              "      <td>2012</td>\n",
              "      <td>0.213676</td>\n",
              "      <td>0</td>\n",
              "      <td>4</td>\n",
              "      <td>4</td>\n",
              "      <td>2.0</td>\n",
              "    </tr>\n",
              "    <tr>\n",
              "      <th>3</th>\n",
              "      <td>A_1</td>\n",
              "      <td>2013</td>\n",
              "      <td>-1.194596</td>\n",
              "      <td>5</td>\n",
              "      <td>0</td>\n",
              "      <td>10</td>\n",
              "      <td>6.5</td>\n",
              "    </tr>\n",
              "    <tr>\n",
              "      <th>4</th>\n",
              "      <td>B_1</td>\n",
              "      <td>2014</td>\n",
              "      <td>-0.151651</td>\n",
              "      <td>0</td>\n",
              "      <td>1</td>\n",
              "      <td>5</td>\n",
              "      <td>2.0</td>\n",
              "    </tr>\n",
              "    <tr>\n",
              "      <th>5</th>\n",
              "      <td>B_1</td>\n",
              "      <td>2015</td>\n",
              "      <td>-1.090184</td>\n",
              "      <td>3</td>\n",
              "      <td>4</td>\n",
              "      <td>9</td>\n",
              "      <td>4.0</td>\n",
              "    </tr>\n",
              "    <tr>\n",
              "      <th>6</th>\n",
              "      <td>C</td>\n",
              "      <td>2016</td>\n",
              "      <td>1.611263</td>\n",
              "      <td>5</td>\n",
              "      <td>4</td>\n",
              "      <td>4</td>\n",
              "      <td>6.5</td>\n",
              "    </tr>\n",
              "    <tr>\n",
              "      <th>7</th>\n",
              "      <td>A_1</td>\n",
              "      <td>2017</td>\n",
              "      <td>-0.272470</td>\n",
              "      <td>8</td>\n",
              "      <td>0</td>\n",
              "      <td>10</td>\n",
              "      <td>9.0</td>\n",
              "    </tr>\n",
              "    <tr>\n",
              "      <th>8</th>\n",
              "      <td>C</td>\n",
              "      <td>2018</td>\n",
              "      <td>-0.542211</td>\n",
              "      <td>4</td>\n",
              "      <td>5</td>\n",
              "      <td>9</td>\n",
              "      <td>5.0</td>\n",
              "    </tr>\n",
              "    <tr>\n",
              "      <th>9</th>\n",
              "      <td>C</td>\n",
              "      <td>2019</td>\n",
              "      <td>-0.184487</td>\n",
              "      <td>0</td>\n",
              "      <td>6</td>\n",
              "      <td>15</td>\n",
              "      <td>2.0</td>\n",
              "    </tr>\n",
              "  </tbody>\n",
              "</table>\n",
              "</div>"
            ],
            "text/plain": [
              "  group  year   new_col  value_1  value_2  cumsum_2  rank_1\n",
              "0   A_1  2010  3.149183        9        3         3    10.0\n",
              "1   A_1  2011  0.532873        6        7        10     8.0\n",
              "2   B_1  2012  0.213676        0        4         4     2.0\n",
              "3   A_1  2013 -1.194596        5        0        10     6.5\n",
              "4   B_1  2014 -0.151651        0        1         5     2.0\n",
              "5   B_1  2015 -1.090184        3        4         9     4.0\n",
              "6     C  2016  1.611263        5        4         4     6.5\n",
              "7   A_1  2017 -0.272470        8        0        10     9.0\n",
              "8     C  2018 -0.542211        4        5         9     5.0\n",
              "9     C  2019 -0.184487        0        6        15     2.0"
            ]
          },
          "metadata": {
            "tags": []
          },
          "execution_count": 26
        }
      ]
    },
    {
      "cell_type": "code",
      "metadata": {
        "id": "Wi2IGOHZvniP",
        "colab_type": "code",
        "colab": {}
      },
      "source": [
        "def color_negative_values(val):\n",
        "  color = 'red' if val < 0 else 'black'\n",
        "  return 'color : %s' %color"
      ],
      "execution_count": 27,
      "outputs": []
    },
    {
      "cell_type": "code",
      "metadata": {
        "id": "_LDIJwsZwGiM",
        "colab_type": "code",
        "colab": {
          "base_uri": "https://localhost:8080/",
          "height": 250
        },
        "outputId": "9658d0ae-4fdc-4db8-a8b0-37d8e69265db"
      },
      "source": [
        "df[['new_col']].style.applymap(color_negative_values)"
      ],
      "execution_count": 28,
      "outputs": [
        {
          "output_type": "execute_result",
          "data": {
            "text/html": [
              "<style  type=\"text/css\" >\n",
              "    #T_0cdc2524_c7d8_11ea_a579_0242ac1c0002row0_col0 {\n",
              "            color :  black;\n",
              "        }    #T_0cdc2524_c7d8_11ea_a579_0242ac1c0002row1_col0 {\n",
              "            color :  black;\n",
              "        }    #T_0cdc2524_c7d8_11ea_a579_0242ac1c0002row2_col0 {\n",
              "            color :  black;\n",
              "        }    #T_0cdc2524_c7d8_11ea_a579_0242ac1c0002row3_col0 {\n",
              "            color :  red;\n",
              "        }    #T_0cdc2524_c7d8_11ea_a579_0242ac1c0002row4_col0 {\n",
              "            color :  red;\n",
              "        }    #T_0cdc2524_c7d8_11ea_a579_0242ac1c0002row5_col0 {\n",
              "            color :  red;\n",
              "        }    #T_0cdc2524_c7d8_11ea_a579_0242ac1c0002row6_col0 {\n",
              "            color :  black;\n",
              "        }    #T_0cdc2524_c7d8_11ea_a579_0242ac1c0002row7_col0 {\n",
              "            color :  red;\n",
              "        }    #T_0cdc2524_c7d8_11ea_a579_0242ac1c0002row8_col0 {\n",
              "            color :  red;\n",
              "        }    #T_0cdc2524_c7d8_11ea_a579_0242ac1c0002row9_col0 {\n",
              "            color :  red;\n",
              "        }</style><table id=\"T_0cdc2524_c7d8_11ea_a579_0242ac1c0002\" ><thead>    <tr>        <th class=\"blank level0\" ></th>        <th class=\"col_heading level0 col0\" >new_col</th>    </tr></thead><tbody>\n",
              "                <tr>\n",
              "                        <th id=\"T_0cdc2524_c7d8_11ea_a579_0242ac1c0002level0_row0\" class=\"row_heading level0 row0\" >0</th>\n",
              "                        <td id=\"T_0cdc2524_c7d8_11ea_a579_0242ac1c0002row0_col0\" class=\"data row0 col0\" >3.149183</td>\n",
              "            </tr>\n",
              "            <tr>\n",
              "                        <th id=\"T_0cdc2524_c7d8_11ea_a579_0242ac1c0002level0_row1\" class=\"row_heading level0 row1\" >1</th>\n",
              "                        <td id=\"T_0cdc2524_c7d8_11ea_a579_0242ac1c0002row1_col0\" class=\"data row1 col0\" >0.532873</td>\n",
              "            </tr>\n",
              "            <tr>\n",
              "                        <th id=\"T_0cdc2524_c7d8_11ea_a579_0242ac1c0002level0_row2\" class=\"row_heading level0 row2\" >2</th>\n",
              "                        <td id=\"T_0cdc2524_c7d8_11ea_a579_0242ac1c0002row2_col0\" class=\"data row2 col0\" >0.213676</td>\n",
              "            </tr>\n",
              "            <tr>\n",
              "                        <th id=\"T_0cdc2524_c7d8_11ea_a579_0242ac1c0002level0_row3\" class=\"row_heading level0 row3\" >3</th>\n",
              "                        <td id=\"T_0cdc2524_c7d8_11ea_a579_0242ac1c0002row3_col0\" class=\"data row3 col0\" >-1.194596</td>\n",
              "            </tr>\n",
              "            <tr>\n",
              "                        <th id=\"T_0cdc2524_c7d8_11ea_a579_0242ac1c0002level0_row4\" class=\"row_heading level0 row4\" >4</th>\n",
              "                        <td id=\"T_0cdc2524_c7d8_11ea_a579_0242ac1c0002row4_col0\" class=\"data row4 col0\" >-0.151651</td>\n",
              "            </tr>\n",
              "            <tr>\n",
              "                        <th id=\"T_0cdc2524_c7d8_11ea_a579_0242ac1c0002level0_row5\" class=\"row_heading level0 row5\" >5</th>\n",
              "                        <td id=\"T_0cdc2524_c7d8_11ea_a579_0242ac1c0002row5_col0\" class=\"data row5 col0\" >-1.090184</td>\n",
              "            </tr>\n",
              "            <tr>\n",
              "                        <th id=\"T_0cdc2524_c7d8_11ea_a579_0242ac1c0002level0_row6\" class=\"row_heading level0 row6\" >6</th>\n",
              "                        <td id=\"T_0cdc2524_c7d8_11ea_a579_0242ac1c0002row6_col0\" class=\"data row6 col0\" >1.611263</td>\n",
              "            </tr>\n",
              "            <tr>\n",
              "                        <th id=\"T_0cdc2524_c7d8_11ea_a579_0242ac1c0002level0_row7\" class=\"row_heading level0 row7\" >7</th>\n",
              "                        <td id=\"T_0cdc2524_c7d8_11ea_a579_0242ac1c0002row7_col0\" class=\"data row7 col0\" >-0.272470</td>\n",
              "            </tr>\n",
              "            <tr>\n",
              "                        <th id=\"T_0cdc2524_c7d8_11ea_a579_0242ac1c0002level0_row8\" class=\"row_heading level0 row8\" >8</th>\n",
              "                        <td id=\"T_0cdc2524_c7d8_11ea_a579_0242ac1c0002row8_col0\" class=\"data row8 col0\" >-0.542211</td>\n",
              "            </tr>\n",
              "            <tr>\n",
              "                        <th id=\"T_0cdc2524_c7d8_11ea_a579_0242ac1c0002level0_row9\" class=\"row_heading level0 row9\" >9</th>\n",
              "                        <td id=\"T_0cdc2524_c7d8_11ea_a579_0242ac1c0002row9_col0\" class=\"data row9 col0\" >-0.184487</td>\n",
              "            </tr>\n",
              "    </tbody></table>"
            ],
            "text/plain": [
              "<pandas.io.formats.style.Styler at 0x7f0e11ca5240>"
            ]
          },
          "metadata": {
            "tags": []
          },
          "execution_count": 28
        }
      ]
    },
    {
      "cell_type": "code",
      "metadata": {
        "id": "aJB-R3zwwWct",
        "colab_type": "code",
        "colab": {
          "base_uri": "https://localhost:8080/",
          "height": 384
        },
        "outputId": "4b27e06f-8011-4eee-8ad1-9b5bc9d1709c"
      },
      "source": [
        "df3 = pd.DataFrame({'A': np.random.randn(10), 'B': np.random.randn(10)})\n",
        "df3"
      ],
      "execution_count": 29,
      "outputs": [
        {
          "output_type": "execute_result",
          "data": {
            "text/html": [
              "<div>\n",
              "<style scoped>\n",
              "    .dataframe tbody tr th:only-of-type {\n",
              "        vertical-align: middle;\n",
              "    }\n",
              "\n",
              "    .dataframe tbody tr th {\n",
              "        vertical-align: top;\n",
              "    }\n",
              "\n",
              "    .dataframe thead th {\n",
              "        text-align: right;\n",
              "    }\n",
              "</style>\n",
              "<table border=\"1\" class=\"dataframe\">\n",
              "  <thead>\n",
              "    <tr style=\"text-align: right;\">\n",
              "      <th></th>\n",
              "      <th>A</th>\n",
              "      <th>B</th>\n",
              "    </tr>\n",
              "  </thead>\n",
              "  <tbody>\n",
              "    <tr>\n",
              "      <th>0</th>\n",
              "      <td>-0.501609</td>\n",
              "      <td>0.705302</td>\n",
              "    </tr>\n",
              "    <tr>\n",
              "      <th>1</th>\n",
              "      <td>0.758420</td>\n",
              "      <td>1.189865</td>\n",
              "    </tr>\n",
              "    <tr>\n",
              "      <th>2</th>\n",
              "      <td>0.571806</td>\n",
              "      <td>0.135736</td>\n",
              "    </tr>\n",
              "    <tr>\n",
              "      <th>3</th>\n",
              "      <td>-0.712923</td>\n",
              "      <td>-0.534653</td>\n",
              "    </tr>\n",
              "    <tr>\n",
              "      <th>4</th>\n",
              "      <td>0.009579</td>\n",
              "      <td>-0.085703</td>\n",
              "    </tr>\n",
              "    <tr>\n",
              "      <th>5</th>\n",
              "      <td>-2.152851</td>\n",
              "      <td>1.417716</td>\n",
              "    </tr>\n",
              "    <tr>\n",
              "      <th>6</th>\n",
              "      <td>0.372404</td>\n",
              "      <td>0.458774</td>\n",
              "    </tr>\n",
              "    <tr>\n",
              "      <th>7</th>\n",
              "      <td>-0.753733</td>\n",
              "      <td>-0.446114</td>\n",
              "    </tr>\n",
              "    <tr>\n",
              "      <th>8</th>\n",
              "      <td>0.585617</td>\n",
              "      <td>0.386589</td>\n",
              "    </tr>\n",
              "    <tr>\n",
              "      <th>9</th>\n",
              "      <td>-0.367636</td>\n",
              "      <td>0.775967</td>\n",
              "    </tr>\n",
              "  </tbody>\n",
              "</table>\n",
              "</div>"
            ],
            "text/plain": [
              "          A         B\n",
              "0 -0.501609  0.705302\n",
              "1  0.758420  1.189865\n",
              "2  0.571806  0.135736\n",
              "3 -0.712923 -0.534653\n",
              "4  0.009579 -0.085703\n",
              "5 -2.152851  1.417716\n",
              "6  0.372404  0.458774\n",
              "7 -0.753733 -0.446114\n",
              "8  0.585617  0.386589\n",
              "9 -0.367636  0.775967"
            ]
          },
          "metadata": {
            "tags": []
          },
          "execution_count": 29
        }
      ]
    },
    {
      "cell_type": "code",
      "metadata": {
        "id": "2U0n-pZNxXgz",
        "colab_type": "code",
        "colab": {
          "base_uri": "https://localhost:8080/",
          "height": 250
        },
        "outputId": "77986e81-1eac-49b2-cf05-5d5be6f483b8"
      },
      "source": [
        "df3.style.applymap(color_negative_values)"
      ],
      "execution_count": 30,
      "outputs": [
        {
          "output_type": "execute_result",
          "data": {
            "text/html": [
              "<style  type=\"text/css\" >\n",
              "    #T_0ce35038_c7d8_11ea_a579_0242ac1c0002row0_col0 {\n",
              "            color :  red;\n",
              "        }    #T_0ce35038_c7d8_11ea_a579_0242ac1c0002row0_col1 {\n",
              "            color :  black;\n",
              "        }    #T_0ce35038_c7d8_11ea_a579_0242ac1c0002row1_col0 {\n",
              "            color :  black;\n",
              "        }    #T_0ce35038_c7d8_11ea_a579_0242ac1c0002row1_col1 {\n",
              "            color :  black;\n",
              "        }    #T_0ce35038_c7d8_11ea_a579_0242ac1c0002row2_col0 {\n",
              "            color :  black;\n",
              "        }    #T_0ce35038_c7d8_11ea_a579_0242ac1c0002row2_col1 {\n",
              "            color :  black;\n",
              "        }    #T_0ce35038_c7d8_11ea_a579_0242ac1c0002row3_col0 {\n",
              "            color :  red;\n",
              "        }    #T_0ce35038_c7d8_11ea_a579_0242ac1c0002row3_col1 {\n",
              "            color :  red;\n",
              "        }    #T_0ce35038_c7d8_11ea_a579_0242ac1c0002row4_col0 {\n",
              "            color :  black;\n",
              "        }    #T_0ce35038_c7d8_11ea_a579_0242ac1c0002row4_col1 {\n",
              "            color :  red;\n",
              "        }    #T_0ce35038_c7d8_11ea_a579_0242ac1c0002row5_col0 {\n",
              "            color :  red;\n",
              "        }    #T_0ce35038_c7d8_11ea_a579_0242ac1c0002row5_col1 {\n",
              "            color :  black;\n",
              "        }    #T_0ce35038_c7d8_11ea_a579_0242ac1c0002row6_col0 {\n",
              "            color :  black;\n",
              "        }    #T_0ce35038_c7d8_11ea_a579_0242ac1c0002row6_col1 {\n",
              "            color :  black;\n",
              "        }    #T_0ce35038_c7d8_11ea_a579_0242ac1c0002row7_col0 {\n",
              "            color :  red;\n",
              "        }    #T_0ce35038_c7d8_11ea_a579_0242ac1c0002row7_col1 {\n",
              "            color :  red;\n",
              "        }    #T_0ce35038_c7d8_11ea_a579_0242ac1c0002row8_col0 {\n",
              "            color :  black;\n",
              "        }    #T_0ce35038_c7d8_11ea_a579_0242ac1c0002row8_col1 {\n",
              "            color :  black;\n",
              "        }    #T_0ce35038_c7d8_11ea_a579_0242ac1c0002row9_col0 {\n",
              "            color :  red;\n",
              "        }    #T_0ce35038_c7d8_11ea_a579_0242ac1c0002row9_col1 {\n",
              "            color :  black;\n",
              "        }</style><table id=\"T_0ce35038_c7d8_11ea_a579_0242ac1c0002\" ><thead>    <tr>        <th class=\"blank level0\" ></th>        <th class=\"col_heading level0 col0\" >A</th>        <th class=\"col_heading level0 col1\" >B</th>    </tr></thead><tbody>\n",
              "                <tr>\n",
              "                        <th id=\"T_0ce35038_c7d8_11ea_a579_0242ac1c0002level0_row0\" class=\"row_heading level0 row0\" >0</th>\n",
              "                        <td id=\"T_0ce35038_c7d8_11ea_a579_0242ac1c0002row0_col0\" class=\"data row0 col0\" >-0.501609</td>\n",
              "                        <td id=\"T_0ce35038_c7d8_11ea_a579_0242ac1c0002row0_col1\" class=\"data row0 col1\" >0.705302</td>\n",
              "            </tr>\n",
              "            <tr>\n",
              "                        <th id=\"T_0ce35038_c7d8_11ea_a579_0242ac1c0002level0_row1\" class=\"row_heading level0 row1\" >1</th>\n",
              "                        <td id=\"T_0ce35038_c7d8_11ea_a579_0242ac1c0002row1_col0\" class=\"data row1 col0\" >0.758420</td>\n",
              "                        <td id=\"T_0ce35038_c7d8_11ea_a579_0242ac1c0002row1_col1\" class=\"data row1 col1\" >1.189865</td>\n",
              "            </tr>\n",
              "            <tr>\n",
              "                        <th id=\"T_0ce35038_c7d8_11ea_a579_0242ac1c0002level0_row2\" class=\"row_heading level0 row2\" >2</th>\n",
              "                        <td id=\"T_0ce35038_c7d8_11ea_a579_0242ac1c0002row2_col0\" class=\"data row2 col0\" >0.571806</td>\n",
              "                        <td id=\"T_0ce35038_c7d8_11ea_a579_0242ac1c0002row2_col1\" class=\"data row2 col1\" >0.135736</td>\n",
              "            </tr>\n",
              "            <tr>\n",
              "                        <th id=\"T_0ce35038_c7d8_11ea_a579_0242ac1c0002level0_row3\" class=\"row_heading level0 row3\" >3</th>\n",
              "                        <td id=\"T_0ce35038_c7d8_11ea_a579_0242ac1c0002row3_col0\" class=\"data row3 col0\" >-0.712923</td>\n",
              "                        <td id=\"T_0ce35038_c7d8_11ea_a579_0242ac1c0002row3_col1\" class=\"data row3 col1\" >-0.534653</td>\n",
              "            </tr>\n",
              "            <tr>\n",
              "                        <th id=\"T_0ce35038_c7d8_11ea_a579_0242ac1c0002level0_row4\" class=\"row_heading level0 row4\" >4</th>\n",
              "                        <td id=\"T_0ce35038_c7d8_11ea_a579_0242ac1c0002row4_col0\" class=\"data row4 col0\" >0.009579</td>\n",
              "                        <td id=\"T_0ce35038_c7d8_11ea_a579_0242ac1c0002row4_col1\" class=\"data row4 col1\" >-0.085703</td>\n",
              "            </tr>\n",
              "            <tr>\n",
              "                        <th id=\"T_0ce35038_c7d8_11ea_a579_0242ac1c0002level0_row5\" class=\"row_heading level0 row5\" >5</th>\n",
              "                        <td id=\"T_0ce35038_c7d8_11ea_a579_0242ac1c0002row5_col0\" class=\"data row5 col0\" >-2.152851</td>\n",
              "                        <td id=\"T_0ce35038_c7d8_11ea_a579_0242ac1c0002row5_col1\" class=\"data row5 col1\" >1.417716</td>\n",
              "            </tr>\n",
              "            <tr>\n",
              "                        <th id=\"T_0ce35038_c7d8_11ea_a579_0242ac1c0002level0_row6\" class=\"row_heading level0 row6\" >6</th>\n",
              "                        <td id=\"T_0ce35038_c7d8_11ea_a579_0242ac1c0002row6_col0\" class=\"data row6 col0\" >0.372404</td>\n",
              "                        <td id=\"T_0ce35038_c7d8_11ea_a579_0242ac1c0002row6_col1\" class=\"data row6 col1\" >0.458774</td>\n",
              "            </tr>\n",
              "            <tr>\n",
              "                        <th id=\"T_0ce35038_c7d8_11ea_a579_0242ac1c0002level0_row7\" class=\"row_heading level0 row7\" >7</th>\n",
              "                        <td id=\"T_0ce35038_c7d8_11ea_a579_0242ac1c0002row7_col0\" class=\"data row7 col0\" >-0.753733</td>\n",
              "                        <td id=\"T_0ce35038_c7d8_11ea_a579_0242ac1c0002row7_col1\" class=\"data row7 col1\" >-0.446114</td>\n",
              "            </tr>\n",
              "            <tr>\n",
              "                        <th id=\"T_0ce35038_c7d8_11ea_a579_0242ac1c0002level0_row8\" class=\"row_heading level0 row8\" >8</th>\n",
              "                        <td id=\"T_0ce35038_c7d8_11ea_a579_0242ac1c0002row8_col0\" class=\"data row8 col0\" >0.585617</td>\n",
              "                        <td id=\"T_0ce35038_c7d8_11ea_a579_0242ac1c0002row8_col1\" class=\"data row8 col1\" >0.386589</td>\n",
              "            </tr>\n",
              "            <tr>\n",
              "                        <th id=\"T_0ce35038_c7d8_11ea_a579_0242ac1c0002level0_row9\" class=\"row_heading level0 row9\" >9</th>\n",
              "                        <td id=\"T_0ce35038_c7d8_11ea_a579_0242ac1c0002row9_col0\" class=\"data row9 col0\" >-0.367636</td>\n",
              "                        <td id=\"T_0ce35038_c7d8_11ea_a579_0242ac1c0002row9_col1\" class=\"data row9 col1\" >0.775967</td>\n",
              "            </tr>\n",
              "    </tbody></table>"
            ],
            "text/plain": [
              "<pandas.io.formats.style.Styler at 0x7f0e11c87b38>"
            ]
          },
          "metadata": {
            "tags": []
          },
          "execution_count": 30
        }
      ]
    },
    {
      "cell_type": "code",
      "metadata": {
        "id": "lhCJkvGVxncB",
        "colab_type": "code",
        "colab": {}
      },
      "source": [
        ""
      ],
      "execution_count": 30,
      "outputs": []
    }
  ]
}